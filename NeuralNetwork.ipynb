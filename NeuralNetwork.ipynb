{
  "nbformat": 4,
  "nbformat_minor": 0,
  "metadata": {
    "colab": {
      "name": "NeuralNetwork.ipynb",
      "provenance": [],
      "authorship_tag": "ABX9TyNnTh52iUYnxOPu5mU/oyjh",
      "include_colab_link": true
    },
    "kernelspec": {
      "name": "python3",
      "display_name": "Python 3"
    },
    "language_info": {
      "name": "python"
    }
  },
  "cells": [
    {
      "cell_type": "markdown",
      "metadata": {
        "id": "view-in-github",
        "colab_type": "text"
      },
      "source": [
        "<a href=\"https://colab.research.google.com/github/PhatHuynhTranSon99/Neural-Network-From-Scratch/blob/main/NeuralNetwork.ipynb\" target=\"_parent\"><img src=\"https://colab.research.google.com/assets/colab-badge.svg\" alt=\"Open In Colab\"/></a>"
      ]
    },
    {
      "cell_type": "markdown",
      "metadata": {
        "id": "ajHDcYlGKmS7"
      },
      "source": [
        "# Neural Network from stratch\n",
        "\n",
        "## About\n",
        "Neural Networks are often blackboxes some abitrary inputs to your desired output (whether it's a continuous value or a categorical value). In this colab, I hope to uncover to essential details on how to implement common layers in a standard feed-forward neural network.\n",
        "\n",
        "## Task\n",
        "The task we have at hand is that of classification, where the neural network is required to accurately predict the class of a 2-dimensional datapoints. The dataset used for this example will be generated from 2-spiral dataset. To do this, we make use of several layers, namely:\n",
        "\n",
        "\n",
        "*   Fully-connected layer\n",
        "*   Sigmoid layer\n",
        "\n",
        "\n",
        "\n"
      ]
    },
    {
      "cell_type": "markdown",
      "metadata": {
        "id": "hPFNESf-MDdF"
      },
      "source": [
        "## Library import\n",
        "\n",
        "For this example, we will use only numpy to generate the dataset and train the neural network. We will also use matplotlib to plot the values"
      ]
    },
    {
      "cell_type": "code",
      "metadata": {
        "id": "ekRcPzsJMZ0s"
      },
      "source": [
        "import numpy as np\n",
        "import matplotlib.pyplot as plt"
      ],
      "execution_count": null,
      "outputs": []
    },
    {
      "cell_type": "markdown",
      "metadata": {
        "id": "H5uZeMzSMtr1"
      },
      "source": [
        "## Data Generation\n",
        "\n",
        "This little script generates a random 2-d spiral dataset using numpy"
      ]
    },
    {
      "cell_type": "code",
      "metadata": {
        "id": "3Rp5Ef-0M0hM"
      },
      "source": [
        "N = 400     #Number of datapoints\n",
        "pi = np.pi  # 3.14\n",
        "theta = np.sqrt(np.random.rand(N))*2*pi\n",
        "\n",
        "# Generate the positive points\n",
        "r_a = 2*theta + pi\n",
        "data_a = np.array([np.cos(theta)*r_a, np.sin(theta)*r_a]).T\n",
        "positive_points = data_a + np.random.randn(N,2)\n",
        "\n",
        "# Generate the negative points\n",
        "r_b = -2*theta - pi\n",
        "data_b = np.array([np.cos(theta)*r_b, np.sin(theta)*r_b]).T\n",
        "negative_points = data_b + np.random.randn(N,2)\n",
        "\n",
        "# Combine x and y (the labels: 0 or 1)\n",
        "negative_data = np.append(negative_points, np.zeros((N,1)), axis=1)\n",
        "positive_data = np.append(positive_points, np.ones((N,1)), axis=1)\n",
        "\n",
        "# Combine positive points and negative points to create a dataset\n",
        "data = np.append(negative_data, positive_data, axis=0)\n",
        "np.random.shuffle(data) # Shuffle the data in abitrary order"
      ],
      "execution_count": null,
      "outputs": []
    },
    {
      "cell_type": "markdown",
      "metadata": {
        "id": "VwqMHs_aN8ZI"
      },
      "source": [
        "The dataset generated's plot is as follows:"
      ]
    },
    {
      "cell_type": "code",
      "metadata": {
        "colab": {
          "base_uri": "https://localhost:8080/",
          "height": 265
        },
        "id": "4YF2RKLXOCG1",
        "outputId": "44b2bb1e-3b6e-4308-e26a-56966b7f4938"
      },
      "source": [
        "plt.scatter(positive_points[:,0], positive_points[:,1])\n",
        "plt.scatter(negative_points[:,0], negative_points[:,1])\n",
        "plt.show()"
      ],
      "execution_count": null,
      "outputs": [
        {
          "output_type": "display_data",
          "data": {
            "image/png": "[encoded data removed]",
            "text/plain": [
              "<Figure size 432x288 with 1 Axes>"
            ]
          },
          "metadata": {
            "needs_background": "light"
          }
        }
      ]
    },
    {
      "cell_type": "markdown",
      "metadata": {
        "id": "FB_nr4QmOWrd"
      },
      "source": [
        "## Defining the layers\n",
        "\n",
        "In this section, we define two layers (Fully connected and sigmoid) with forward and backward function"
      ]
    },
    {
      "cell_type": "markdown",
      "metadata": {
        "id": "IYUP2kLG_EYv"
      },
      "source": [
        "### Full-connected layer\n",
        "\n",
        "This layer consists of a multiplication of the input with the weight matrix W and addition with the bias b"
      ]
    },
    {
      "cell_type": "code",
      "metadata": {
        "id": "uUDTk4CQ_GuK"
      },
      "source": [
        "class FullyConnected:\n",
        "  def __init__(self, m, n):\n",
        "    \"\"\"\n",
        "    Params:\n",
        "      - m: the number of rows of weight matrix W\n",
        "      - n: the number of columns of weight matrix W\n",
        "    Puspose:\n",
        "      - To initialize the weight matrix W (dimension m x n) and \n",
        "        a vector bias b\n",
        "      - Weight matrix W is initialized with random uniform weights (to avoid the problem of symmetry)\n",
        "      - Bias vector b is initialize with zeros\n",
        "    \"\"\"\n",
        "    self.W = np.random.rand(m, n)\n",
        "    self.b = np.zeros(m)\n",
        "\n",
        "  def forward(self, x):\n",
        "    \"\"\"\n",
        "    Params:\n",
        "      - x: input of dimension k x m\n",
        "    Purpose:\n",
        "      - Perform a forward pass (output = Wx + b)\n",
        "      - Cache the input value (x) for backward step\n",
        "    \"\"\"\n",
        "    self.x = x\n",
        "    return self.W @ x + self.b\n",
        "\n",
        "  def backward(self, dL, learning_rate = 0.01):\n",
        "    \"\"\"\n",
        "    Params:\n",
        "      - dL: propagated loss from deeper layer (dL/dz with z: the value of forward pass)\n",
        "    Purpose:\n",
        "      - Find the loss gradient with respect to W, b and x i.e to produce dL/dW and dL/db and dX\n",
        "      - Update W and b for gradient descent\n",
        "      - Define the upstream gradient dX (for shallower layers)\n",
        "    \"\"\"\n",
        "\n",
        "    # Produce the gradient\n",
        "    dW = np.outer(dL, self.x)\n",
        "    dX = dL @ self.W\n",
        "    db = dL\n",
        "\n",
        "    # Perform gradient descent\n",
        "    self.W -= learning_rate * dW\n",
        "    self.b -= learning_rate * db\n",
        "\n",
        "    # Returns the upstream gradient dX\n",
        "    return dX"
      ],
      "execution_count": null,
      "outputs": []
    },
    {
      "cell_type": "markdown",
      "metadata": {
        "id": "E_CaHT47FQnn"
      },
      "source": [
        "### Test fully-connected layer\n",
        "\n",
        "In this part, we check if the forward and background pass of the implementation produce vectors and matrices of correct shapes"
      ]
    },
    {
      "cell_type": "code",
      "metadata": {
        "id": "HDQlYFxZFchj"
      },
      "source": [
        "# Define an input of size 3 x 2\n",
        "x = np.random.rand(3)\n",
        "\n",
        "# Define a fully connecte layer of size (2 x 4) (m = 2 and n = 4)\n",
        "fully_connected = FullyConnected(4, 3)\n",
        "\n",
        "# Get output for forward pass and backward pass (with random loss graidne tfor backward pass)\n",
        "forward_output = fully_connected.forward(x)\n",
        "backward_output = fully_connected.backward( np.random.rand(4) )\n",
        "\n",
        "# Check the dimensions\n",
        "assert forward_output.shape == (4,)\n",
        "assert backward_output.shape == (3,)"
      ],
      "execution_count": null,
      "outputs": []
    },
    {
      "cell_type": "markdown",
      "metadata": {
        "id": "4GKnTwrSHU0B"
      },
      "source": [
        "As one may observe, the forwad and background produce vectors and matrices of correct shape"
      ]
    },
    {
      "cell_type": "markdown",
      "metadata": {
        "id": "mQur-CSrHfHy"
      },
      "source": [
        "### Sigmoid layer\n",
        "\n",
        "This section will define the Sigmoid layer, together with its forward and backward methods"
      ]
    },
    {
      "cell_type": "code",
      "metadata": {
        "id": "Pnbtinr4HmoP"
      },
      "source": [
        "class Sigmoid:\n",
        "  def sigmoid(self, x):\n",
        "    \"\"\"\n",
        "    Params:\n",
        "      - x: Input vector (with dimension n x 1)\n",
        "    Purpose:\n",
        "      - Calculate the sigmoid for each entry of the input vector x\n",
        "    \"\"\"\n",
        "    return 1 / (1 + np.exp(-x))\n",
        "\n",
        "  def forward(self, x):\n",
        "    \"\"\"\n",
        "    Params:\n",
        "      - x: Input vector (with dimension n x 1)\n",
        "    Purpose:\n",
        "      - Calculate the forward step of the input vector x i.e produce a vector of size (n x 1) also\n",
        "      - Cache the value of input vector x (for the backward step)\n",
        "    \"\"\"\n",
        "    self.x = x\n",
        "    return self.sigmoid(x)\n",
        "\n",
        "  def backward(self, dL):\n",
        "    \"\"\"\n",
        "    Params:\n",
        "      - dL: Propagated loss from deeper layers\n",
        "    Purpose:\n",
        "      - Calculate the backward step of the input vector x i.e produce a vector of size (n x 1) also\n",
        "      - Return the gradient as upstream gradient for shallower layers\n",
        "      - Don't perform any kind of gradient descent (this layer doesn't have any parameters)\n",
        "    \"\"\"\n",
        "    df = self.sigmoid(self.x) * ( 1 - self.sigmoid(self.x) )\n",
        "    dX = dL * df # dL/dx = dL/df x df/dX\n",
        "    return dX"
      ],
      "execution_count": null,
      "outputs": []
    },
    {
      "cell_type": "markdown",
      "metadata": {
        "id": "p6Gn4XFFKIUc"
      },
      "source": [
        "### Test sigmoid layer\n",
        "\n",
        "In this part, we check if the forward and background pass of the implementation produce vectors and matrices of correct shapes"
      ]
    },
    {
      "cell_type": "code",
      "metadata": {
        "id": "Gm9Sa5cnKIpg"
      },
      "source": [
        "# Define an input of size 3 x 2\n",
        "x = np.random.rand(3)\n",
        "\n",
        "# Define a fully connecte layer of size (2 x 4) (m = 2 and n = 4)\n",
        "sigmoid = Sigmoid()\n",
        "\n",
        "# Get output for forward pass and backward pass (with random loss graidne tfor backward pass)\n",
        "forward_output = sigmoid.forward(x)\n",
        "backward_output = sigmoid.backward( np.random.rand(3) )\n",
        "\n",
        "# Check the dimensions\n",
        "assert forward_output.shape == (3,)\n",
        "assert backward_output.shape == (3,)"
      ],
      "execution_count": null,
      "outputs": []
    },
    {
      "cell_type": "markdown",
      "metadata": {
        "id": "RU-689vDLvAj"
      },
      "source": [
        "## Define the loss layer\n",
        "\n",
        "This section will define a class for calculate cross entropy loss for a single prediction y_hat and y. It will have 2 method, one for calculating loss and another for calculating the gradient of the loss with respect to the prediction y_hat"
      ]
    },
    {
      "cell_type": "code",
      "metadata": {
        "id": "71NPEc2rcKrJ"
      },
      "source": [
        "class CrossEntropy:\n",
        "  def forward(self, y, y_hat):\n",
        "    \"\"\"\n",
        "    Params:\n",
        "      - y: The true value of the label (for one example (x_i, y_i))\n",
        "      - y_hat:  The predicted value of the label (for one example (x_i, y_i)).\n",
        "        This is produced by our learning algorithm\n",
        "    Purpose:\n",
        "      - To cache the value of y and y_hat (for back propagation step)\n",
        "      - To calculate the cross entropy loss of one learning example (x_i, y_i)\n",
        "      - To return the cross entropy loss\n",
        "    \"\"\"\n",
        "    self.y = y\n",
        "    self.y_hat = y_hat\n",
        "    return - y * np.log(y_hat) - (1 - y) * np.log(1 - y_hat)\n",
        "\n",
        "  def backward(self):\n",
        "    \"\"\"\n",
        "    Params:\n",
        "      - None\n",
        "    Purpose:\n",
        "      - To calculate the cross entropy loss's gradient of one learning example \n",
        "        (x_i, y_i) with respect to the prediction (y_hat) dL / dy_hat\n",
        "      - To return the cross entropy loss's gradient\n",
        "    \"\"\"\n",
        "    y = self.y\n",
        "    y_hat = self.y_hat\n",
        "\n",
        "    return (y_hat - y) / (y_hat * (1 - y_hat))"
      ],
      "execution_count": null,
      "outputs": []
    },
    {
      "cell_type": "markdown",
      "metadata": {
        "id": "8WWvnWvtd956"
      },
      "source": [
        "## Test the loss layer\n",
        "\n",
        "This section will test the cross enptropy loss layer's result (by checking the dimesions)"
      ]
    },
    {
      "cell_type": "code",
      "metadata": {
        "id": "RwPwh3bsfWgv"
      },
      "source": [
        "# Define one example true and predicted label\n",
        "y = 1\n",
        "y_predicted = 0.8\n",
        "\n",
        "# Create cross entropy layer\n",
        "cross_entropy = CrossEntropy()\n",
        "\n",
        "# Calculate the forward and backward pass\n",
        "forward_result = cross_entropy.forward(y, y_hat = y_predicted)\n",
        "backward_result = cross_entropy.backward()"
      ],
      "execution_count": null,
      "outputs": []
    },
    {
      "cell_type": "markdown",
      "metadata": {
        "id": "1b3sOD8RKvUE"
      },
      "source": [
        "## Define Neural Network implementation\n",
        "\n",
        "In this section, we define the basics of Neural Network class. This implementation will have no layers initially and it's up the the users to add in the layers. Its only reponsibility is calling the classes' forward and backward methods to perform training"
      ]
    },
    {
      "cell_type": "code",
      "metadata": {
        "id": "qLPzIHfALV_m"
      },
      "source": [
        "class NeuralNetwork:\n",
        "  def __init__(self, loss, learning_rate = 0.001):\n",
        "    \"\"\"\n",
        "    Params:\n",
        "      - loss: The loss layer used for calculating the loss function for one\n",
        "        training example\n",
        "      - learning_rate: The learning rate (alpha) of the neural network\n",
        "        which is used for gradient descent\n",
        "    Purpose:\n",
        "      - To set the loss for the neural network\n",
        "      - To initialize the layers array of the neural network\n",
        "      - To set the learning rate of the neural network\n",
        "    \"\"\"\n",
        "    self.learning_rate = learning_rate\n",
        "    self.loss = loss\n",
        "    self.layers = []\n",
        "\n",
        "  def add(self, layer):\n",
        "    \"\"\"\n",
        "    Params:\n",
        "      - layer: A layer of the neural network, this can be any of the \n",
        "        FullyConnected or Sigmoid layer above. You can extend this to more\n",
        "        layers by defining your own and adding forward and backward \n",
        "        methods\n",
        "    Purpose:\n",
        "      - To add a layer to the neural network. This layer will be saved in the\n",
        "        self.layers property\n",
        "    \"\"\"\n",
        "    self.layers.append(layer)\n",
        "\n",
        "  def forward(self, x, y):\n",
        "    \"\"\"\n",
        "    Params:\n",
        "      - x: The input vector to neural network (vector of dimension p)\n",
        "    Purpose:\n",
        "      - To calculate the loss of the network (for one example) \n",
        "        using each layer's own propagation method and the loss function\n",
        "      - To return the loss to the caller\n",
        "    \"\"\"\n",
        "\n",
        "    # Calculate the result of the last layer\n",
        "    result = x\n",
        "    for layer in self.layers:\n",
        "      result = layer.forward(result)\n",
        "\n",
        "    # Calculate the loss of the prediction\n",
        "    loss = self.loss.forward(y, y_hat = result)\n",
        "\n",
        "    return result, loss\n",
        "\n",
        "  def backward(self):\n",
        "    \"\"\"\n",
        "    Params:\n",
        "      - None\n",
        "    Purpose:\n",
        "      - To perform an iteration of backpropagation of the input by calling each\n",
        "        layer's backward method\n",
        "      - To return the gradient with respect to the input x\n",
        "    \"\"\"\n",
        "    \n",
        "    # First initialize the initial loss gradient \n",
        "    # (w.r.t last layer of the network)\n",
        "    dL = self.loss.backward()\n",
        "\n",
        "    # Then propagate the loss to shallower layers\n",
        "    for layer in self.layers[::-1]:\n",
        "      dL = layer.backward(dL)\n",
        "\n",
        "    # Return the gradient w.r.t to the input (callers can optionally use this)\n",
        "    # result\n",
        "    return dL\n",
        "  \n",
        "  def train(self, training_data, max_iterations=10):\n",
        "    \"\"\"\n",
        "    Params:\n",
        "      - training_data: the training dataset containing all training examples\n",
        "        x_i and y_i\n",
        "      - max_iterations: the number of iterations to go through the entire\n",
        "        dataset and training\n",
        "    Purpose:\n",
        "      - To train the neural network by using the forward and backward methods\n",
        "      - To calculate the average loss of the dataset after each iteration\n",
        "      - To display the training loss after 10 iterations\n",
        "    \"\"\"\n",
        "\n",
        "    # Get the dimensions of training data (i.e the number of training dataset)\n",
        "    m = training_data.shape[0]\n",
        "\n",
        "    # Train the network max_iterations times\n",
        "    for iteration in range(max_iterations):\n",
        "      # First shuffle the training example so that the training is truly \n",
        "      # stochastic\n",
        "      np.random.shuffle\n",
        "\n",
        "      # We also save a cummulated loss to later calculate the average loss of\n",
        "      # the current iteration\n",
        "      cummulated_loss = 0\n",
        "\n",
        "      # For each iteration, we go through every datapoint (single x_i and y_i)\n",
        "      # to train\n",
        "      for training_example in training_data:\n",
        "        # We need to extract the x_i and y_i from the training_example as they\n",
        "        # were coupled together (y is the final element in the training_example)\n",
        "        # array\n",
        "        x_i = training_example[:-1]\n",
        "        y_i = training_example[-1]\n",
        "\n",
        "        # Run the forward propagation method on this example to calculate the \n",
        "        # loss. We use np.squezze and unwrapping syntax to make the loss a \n",
        "        # scalar\n",
        "        training_example_loss = self.forward(x_i, y_i)[1][0]\n",
        "\n",
        "        # Add to cummulated loss \n",
        "        cummulated_loss += training_example_loss\n",
        "\n",
        "        # Now we run backprop on this example to actually training the network\n",
        "        self.backward()\n",
        "\n",
        "      # After all examples have been looked at, finally the average loss is\n",
        "      # calculated and display to the caller after each 100 iterations (m is the \n",
        "      # number of training \n",
        "      # example)\n",
        "      if iteration % 100 == 0:\n",
        "        average_loss = cummulated_loss / m\n",
        "        print(f\"Average loss for iteration { iteration } is {average_loss}\");\n",
        "    \n",
        "  def predict(self, x):\n",
        "    \"\"\"\n",
        "    Params: \n",
        "     - x: the feature (a matrix of size m x n - #examples x #dimensions)\n",
        "    Purpose:\n",
        "     - To generate the prediction based on the input matrix x\n",
        "     - To return the vector y_hat (vector of size (m,))\n",
        "    \"\"\"\n",
        "\n",
        "    # First we run self.forward for each example x_i and get the prediction\n",
        "    # (first element of the tuple result is the prediction). This is another \n",
        "    # array so we just need to grap the first element by using[0]. Then use list\n",
        "    # comprehension to put the prediction into an array and finally use np.array\n",
        "    # to convert the array into a numpy vector\n",
        "    return np.array([ self.forward(x_i, 0)[0][0] for x_i in x])"
      ],
      "execution_count": null,
      "outputs": []
    },
    {
      "cell_type": "markdown",
      "metadata": {
        "id": "niITl4ssis_0"
      },
      "source": [
        "### Test the Neural Network implementation\n",
        "\n",
        "This section will test the forward and backward method of the Neural Network (with all the layers and loss defined above). A random training example will be used for this purpose"
      ]
    },
    {
      "cell_type": "code",
      "metadata": {
        "id": "P-XpgAfAjChT"
      },
      "source": [
        "# Define a random training example (x and y)\n",
        "x = np.random.rand(2)\n",
        "y = 1\n",
        "\n",
        "# Create a neural network (with one hidden layer)\n",
        "# and cross entropy loss with random learning rate\n",
        "network = NeuralNetwork(loss = CrossEntropy(), learning_rate=0.001)\n",
        "\n",
        "# Add hidden layer\n",
        "network.add(FullyConnected(3, 2))\n",
        "network.add(Sigmoid())\n",
        "\n",
        "# Add output layer\n",
        "network.add(FullyConnected(1, 3))\n",
        "network.add(Sigmoid())\n",
        "\n",
        "# Test the forward and backward result\n",
        "forward_output = network.forward(x, y)\n",
        "backward_output = network.backward()"
      ],
      "execution_count": null,
      "outputs": []
    },
    {
      "cell_type": "markdown",
      "metadata": {
        "id": "UK5rTGFYU20z"
      },
      "source": [
        "## Test the network with the spiral dataset\n",
        "\n",
        "Here we finally get to test the train method implemeted in the NeuralNetwork class on the spiral dataset created above."
      ]
    },
    {
      "cell_type": "code",
      "metadata": {
        "colab": {
          "base_uri": "https://localhost:8080/"
        },
        "id": "Wti28BlYVEzo",
        "outputId": "6139f6d1-f0b8-4840-bed4-702986f8e0c0"
      },
      "source": [
        "# Create neural network with cross entropy loss and random learning rate\n",
        "neural_network = NeuralNetwork(loss = CrossEntropy(), learning_rate=0.001)\n",
        "\n",
        "# Add hidden layer\n",
        "neural_network.add(FullyConnected(3, 2))\n",
        "neural_network.add(Sigmoid())\n",
        "\n",
        "# Add output layer\n",
        "neural_network.add(FullyConnected(1, 3))\n",
        "neural_network.add(Sigmoid())\n",
        "\n",
        "# Train the network by call train method and providing training data\n",
        "neural_network.train(data, max_iterations=1000)"
      ],
      "execution_count": null,
      "outputs": [
        {
          "output_type": "stream",
          "name": "stdout",
          "text": [
            "Average loss for iteration 0 is 0.6654598394261038\n",
            "Average loss for iteration 100 is 0.24886155727137574\n",
            "Average loss for iteration 200 is 0.20229297292268086\n",
            "Average loss for iteration 300 is 0.19550567025863136\n",
            "Average loss for iteration 400 is 0.19235686164884036\n",
            "Average loss for iteration 500 is 0.19078045331299034\n",
            "Average loss for iteration 600 is 0.1897202824269937\n",
            "Average loss for iteration 700 is 0.1888497820604258\n",
            "Average loss for iteration 800 is 0.1880385601388058\n",
            "Average loss for iteration 900 is 0.18734461683741693\n"
          ]
        }
      ]
    },
    {
      "cell_type": "markdown",
      "metadata": {
        "id": "8601BJvuarTZ"
      },
      "source": [
        "Now we can check the accuracy rate of the neural network on the training set by calling neural_network.predict() and compare it to the true result"
      ]
    },
    {
      "cell_type": "code",
      "metadata": {
        "colab": {
          "base_uri": "https://localhost:8080/"
        },
        "id": "l8-TbJbOa4pU",
        "outputId": "3f921245-9387-4927-eaa8-fd775cb20ee8"
      },
      "source": [
        "# Split data into x (features) and y (label)\n",
        "x = data[:, :-1]\n",
        "y = data[:, -1]\n",
        "\n",
        "# Now use the predict method of the neural network to generate the prediction\n",
        "probabilities = neural_network.predict(x)\n",
        "\n",
        "# Convert to y_hat (by comparing to 0.5)\n",
        "y_hat = probabilities >= 0.5\n",
        "\n",
        "# Calculate the number of correct examples (by comparing y and y_hat and\n",
        "# summing)\n",
        "correct_examples = np.sum(y_hat == y)\n",
        "\n",
        "# Calculate the accuracy (by dividing witht the total number of training \n",
        "# examples)\n",
        "total_examples = y.shape[0]\n",
        "prediction_accuracy = correct_examples / total_examples\n",
        "print(f\"The accuracy for the training set is { prediction_accuracy }\")"
      ],
      "execution_count": null,
      "outputs": [
        {
          "output_type": "stream",
          "name": "stdout",
          "text": [
            "The accuracy for the training set is 0.93\n"
          ]
        }
      ]
    }
  ]
}